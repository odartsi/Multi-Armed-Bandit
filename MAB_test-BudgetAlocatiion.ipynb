{
 "cells": [
  {
   "cell_type": "code",
   "execution_count": 33,
   "metadata": {},
   "outputs": [],
   "source": [
    "import pandas as pd\n",
    "d=pd.read_json('aggregated_2021_01_2021_02_22_feb.json')"
   ]
  },
  {
   "cell_type": "code",
   "execution_count": 34,
   "metadata": {},
   "outputs": [
    {
     "data": {
      "text/plain": [
       "Index(['campaign_id', 'campaign_name', 'objective', 'reach',\n",
       "       'actions_landing_page_view', 'actions_app_custom_event.other',\n",
       "       'actions_comment', 'actions_app_custom_event.fb_mobile_activate_app',\n",
       "       'actions_onsite_conversion.post_save', 'actions_link_click',\n",
       "       ...\n",
       "       'ws4 (Sales in USD)', 'ws6 (Unique users)', 'ws6 (Event counter)',\n",
       "       'ws6 (Sales in USD)', 'actions_offsite_conversion.fb_pixel_purchase',\n",
       "       'actions_app_custom_event.fb_mobile_purchase', 'actions_omni_purchase',\n",
       "       'actions_purchase', 'actions_app_custom_event.fb_mobile_level_achieved',\n",
       "       'actions_omni_level_achieved'],\n",
       "      dtype='object', length=187)"
      ]
     },
     "execution_count": 34,
     "metadata": {},
     "output_type": "execute_result"
    }
   ],
   "source": [
    "d.columns"
   ]
  },
  {
   "cell_type": "code",
   "execution_count": 3,
   "metadata": {},
   "outputs": [
    {
     "name": "stdout",
     "output_type": "stream",
     "text": [
      "how many cases with N/A in total cost we have?  9 \n",
      "what is the percentage ?  6.34 %\n"
     ]
    }
   ],
   "source": [
    "dna=d.loc[d['Total Cost']==\"N/A\"]\n",
    "##how many cases with N/A in total cost we have?\n",
    "print('how many cases with N/A in total cost we have? ',len(dna),'\\nwhat is the percentage ? ',round(len(dna)/len(d)*100,2),'%')"
   ]
  },
  {
   "cell_type": "code",
   "execution_count": 4,
   "metadata": {},
   "outputs": [],
   "source": [
    "d['Total Cost']=d['Total Cost'].replace(\"N/A\",'0.9')\n",
    "d['Total Cost']=pd.to_numeric(d['Total Cost'], downcast=\"float\")\n",
    "d['ROAS']=d['Total Revenue']/d.spend#d['Total Cost']"
   ]
  },
  {
   "cell_type": "code",
   "execution_count": 5,
   "metadata": {},
   "outputs": [
    {
     "data": {
      "text/plain": [
       "array([6243296405824, 6246177575224, 6246342322224, 6246191687424,\n",
       "       6247216180624, 6247217665424, 6254544161624, 6256193255224])"
      ]
     },
     "execution_count": 5,
     "metadata": {},
     "output_type": "execute_result"
    }
   ],
   "source": [
    "d.campaign_id.unique()"
   ]
  },
  {
   "cell_type": "markdown",
   "metadata": {},
   "source": [
    "### Splitting the campaigns "
   ]
  },
  {
   "cell_type": "code",
   "execution_count": 6,
   "metadata": {},
   "outputs": [],
   "source": [
    "d1=d.loc[d['campaign_id']==6243296405824]\n",
    "t1=pd.DataFrame()\n",
    "t1['date']=d1.date_start#pd.to_datetime(d1.date_start).dt.day\n",
    "#t1['impressions']=d1.impressions\n",
    "t1['Camp1']=d1.ROAS"
   ]
  },
  {
   "cell_type": "code",
   "execution_count": 7,
   "metadata": {},
   "outputs": [],
   "source": [
    "d2=d.loc[d['campaign_id']==6246177575224]\n",
    "t2=pd.DataFrame()\n",
    "#t2['impressions']=d2.impressions\n",
    "t2['Camp2']=d2.ROAS\n",
    "t2['date']=d2.date_start#pd.to_datetime(d2.date_start).dt.day"
   ]
  },
  {
   "cell_type": "code",
   "execution_count": 8,
   "metadata": {},
   "outputs": [],
   "source": [
    "d3=d.loc[d['campaign_id']==6246342322224]\n",
    "t3=pd.DataFrame()\n",
    "#t3['impressions']=d3.impressions\n",
    "t3['Camp3']=d3.ROAS\n",
    "t3['date']=d3.date_start#pd.to_datetime(d3.date_start).dt.day"
   ]
  },
  {
   "cell_type": "code",
   "execution_count": 9,
   "metadata": {},
   "outputs": [],
   "source": [
    "d4=d.loc[d['campaign_id']==6246191687424]\n",
    "t4=pd.DataFrame()\n",
    "#t4['impressions']=d4.impressions\n",
    "t4['Camp4']=d4.ROAS\n",
    "t4['date']=d4.date_start"
   ]
  },
  {
   "cell_type": "code",
   "execution_count": 10,
   "metadata": {},
   "outputs": [],
   "source": [
    "d5=d.loc[d['campaign_id']==6247216180624]\n",
    "t5=pd.DataFrame()\n",
    "#t5['impressions']=d5.impressions\n",
    "t5['Camp5']=d5.ROAS\n",
    "t5['date']=d5.date_start"
   ]
  },
  {
   "cell_type": "code",
   "execution_count": 11,
   "metadata": {},
   "outputs": [],
   "source": [
    "d6=d.loc[d['campaign_id']==6247217665424]\n",
    "t6=pd.DataFrame()\n",
    "#t6['impressions']=d6.impressions\n",
    "t6['Camp6']=d6.ROAS\n",
    "t6['date']=d6.date_start"
   ]
  },
  {
   "cell_type": "code",
   "execution_count": 12,
   "metadata": {},
   "outputs": [],
   "source": [
    "d7=d.loc[d['campaign_id']==6247216180624]\n",
    "t7=pd.DataFrame()\n",
    "#t7['impressions']=d7.impressions\n",
    "t7['Camp7']=d7.ROAS\n",
    "t7['date']=d7.date_start"
   ]
  },
  {
   "cell_type": "code",
   "execution_count": 13,
   "metadata": {},
   "outputs": [],
   "source": [
    "d8=d.loc[d['campaign_id']==6256193255224]\n",
    "t8=pd.DataFrame()\n",
    "#t8['impressions']=d8.impressions\n",
    "t8['Camp8']=d8.ROAS\n",
    "t8['date']=d8.date_start\n",
    "#t8['date']=pd.to_datetime(d8['date_start']).dt.day"
   ]
  },
  {
   "cell_type": "code",
   "execution_count": 14,
   "metadata": {},
   "outputs": [],
   "source": [
    "df = pd.merge(t1, t2, how='outer' ,on='date')\n",
    "df=pd.merge(df, t3, how='outer', on='date')\n",
    "df=pd.merge(df, t4, how='outer', on='date')\n",
    "df=pd.merge(df, t5, how='outer', on='date')\n",
    "df=pd.merge(df, t6, how='outer', on='date')\n",
    "#df=pd.merge(df, t7, how='outer', on='date')\n",
    "#df=pd.merge(df, t8, how='outer', on='date')"
   ]
  },
  {
   "cell_type": "code",
   "execution_count": 16,
   "metadata": {
    "pycharm": {
     "name": "#%%\n"
    }
   },
   "outputs": [
    {
     "data": {
      "text/html": [
       "<div>\n",
       "<style scoped>\n",
       "    .dataframe tbody tr th:only-of-type {\n",
       "        vertical-align: middle;\n",
       "    }\n",
       "\n",
       "    .dataframe tbody tr th {\n",
       "        vertical-align: top;\n",
       "    }\n",
       "\n",
       "    .dataframe thead th {\n",
       "        text-align: right;\n",
       "    }\n",
       "</style>\n",
       "<table border=\"1\" class=\"dataframe\">\n",
       "  <thead>\n",
       "    <tr style=\"text-align: right;\">\n",
       "      <th></th>\n",
       "      <th>Camp1</th>\n",
       "      <th>Camp2</th>\n",
       "      <th>Camp3</th>\n",
       "      <th>Camp4</th>\n",
       "      <th>Camp5</th>\n",
       "      <th>Camp6</th>\n",
       "    </tr>\n",
       "  </thead>\n",
       "  <tbody>\n",
       "    <tr>\n",
       "      <th>0</th>\n",
       "      <td>0.000000</td>\n",
       "      <td>2.304738</td>\n",
       "      <td>0.362762</td>\n",
       "      <td>0.0</td>\n",
       "      <td>0.000000</td>\n",
       "      <td>0.000000</td>\n",
       "    </tr>\n",
       "    <tr>\n",
       "      <th>1</th>\n",
       "      <td>0.255021</td>\n",
       "      <td>0.161991</td>\n",
       "      <td>2.262144</td>\n",
       "      <td>0.0</td>\n",
       "      <td>0.000000</td>\n",
       "      <td>0.000000</td>\n",
       "    </tr>\n",
       "    <tr>\n",
       "      <th>2</th>\n",
       "      <td>0.000000</td>\n",
       "      <td>2.360890</td>\n",
       "      <td>0.885666</td>\n",
       "      <td>0.0</td>\n",
       "      <td>0.000000</td>\n",
       "      <td>0.000000</td>\n",
       "    </tr>\n",
       "    <tr>\n",
       "      <th>3</th>\n",
       "      <td>0.000000</td>\n",
       "      <td>1.442068</td>\n",
       "      <td>3.016258</td>\n",
       "      <td>0.0</td>\n",
       "      <td>1.128234</td>\n",
       "      <td>0.000000</td>\n",
       "    </tr>\n",
       "    <tr>\n",
       "      <th>4</th>\n",
       "      <td>2.537755</td>\n",
       "      <td>1.617572</td>\n",
       "      <td>0.129946</td>\n",
       "      <td>0.0</td>\n",
       "      <td>0.000000</td>\n",
       "      <td>0.000000</td>\n",
       "    </tr>\n",
       "    <tr>\n",
       "      <th>5</th>\n",
       "      <td>0.255903</td>\n",
       "      <td>0.000000</td>\n",
       "      <td>0.550102</td>\n",
       "      <td>0.0</td>\n",
       "      <td>0.238127</td>\n",
       "      <td>0.000000</td>\n",
       "    </tr>\n",
       "    <tr>\n",
       "      <th>6</th>\n",
       "      <td>1.845896</td>\n",
       "      <td>1.629227</td>\n",
       "      <td>0.988457</td>\n",
       "      <td>0.0</td>\n",
       "      <td>0.000000</td>\n",
       "      <td>0.000000</td>\n",
       "    </tr>\n",
       "    <tr>\n",
       "      <th>7</th>\n",
       "      <td>0.000000</td>\n",
       "      <td>1.020422</td>\n",
       "      <td>1.741862</td>\n",
       "      <td>0.0</td>\n",
       "      <td>0.000000</td>\n",
       "      <td>0.000000</td>\n",
       "    </tr>\n",
       "    <tr>\n",
       "      <th>8</th>\n",
       "      <td>0.000000</td>\n",
       "      <td>0.000000</td>\n",
       "      <td>1.430644</td>\n",
       "      <td>0.0</td>\n",
       "      <td>0.000000</td>\n",
       "      <td>0.000000</td>\n",
       "    </tr>\n",
       "    <tr>\n",
       "      <th>9</th>\n",
       "      <td>0.000000</td>\n",
       "      <td>0.325646</td>\n",
       "      <td>0.695966</td>\n",
       "      <td>0.0</td>\n",
       "      <td>0.862013</td>\n",
       "      <td>0.000000</td>\n",
       "    </tr>\n",
       "    <tr>\n",
       "      <th>10</th>\n",
       "      <td>1.189979</td>\n",
       "      <td>0.000000</td>\n",
       "      <td>1.434613</td>\n",
       "      <td>0.0</td>\n",
       "      <td>0.000000</td>\n",
       "      <td>0.222658</td>\n",
       "    </tr>\n",
       "    <tr>\n",
       "      <th>11</th>\n",
       "      <td>0.000000</td>\n",
       "      <td>0.933938</td>\n",
       "      <td>0.914413</td>\n",
       "      <td>0.0</td>\n",
       "      <td>0.000000</td>\n",
       "      <td>1.559824</td>\n",
       "    </tr>\n",
       "    <tr>\n",
       "      <th>12</th>\n",
       "      <td>0.000000</td>\n",
       "      <td>1.789916</td>\n",
       "      <td>1.119352</td>\n",
       "      <td>0.0</td>\n",
       "      <td>0.000000</td>\n",
       "      <td>0.000000</td>\n",
       "    </tr>\n",
       "    <tr>\n",
       "      <th>13</th>\n",
       "      <td>1.975880</td>\n",
       "      <td>1.672784</td>\n",
       "      <td>1.467668</td>\n",
       "      <td>0.0</td>\n",
       "      <td>0.000000</td>\n",
       "      <td>0.000000</td>\n",
       "    </tr>\n",
       "    <tr>\n",
       "      <th>14</th>\n",
       "      <td>3.331037</td>\n",
       "      <td>0.000000</td>\n",
       "      <td>0.308306</td>\n",
       "      <td>0.0</td>\n",
       "      <td>0.000000</td>\n",
       "      <td>0.245632</td>\n",
       "    </tr>\n",
       "    <tr>\n",
       "      <th>15</th>\n",
       "      <td>2.087650</td>\n",
       "      <td>0.000000</td>\n",
       "      <td>0.280568</td>\n",
       "      <td>0.0</td>\n",
       "      <td>0.000000</td>\n",
       "      <td>0.000000</td>\n",
       "    </tr>\n",
       "    <tr>\n",
       "      <th>16</th>\n",
       "      <td>0.000000</td>\n",
       "      <td>0.451877</td>\n",
       "      <td>0.049206</td>\n",
       "      <td>0.0</td>\n",
       "      <td>0.000000</td>\n",
       "      <td>0.000000</td>\n",
       "    </tr>\n",
       "    <tr>\n",
       "      <th>17</th>\n",
       "      <td>1.706451</td>\n",
       "      <td>0.158104</td>\n",
       "      <td>1.076553</td>\n",
       "      <td>0.0</td>\n",
       "      <td>0.000000</td>\n",
       "      <td>0.000000</td>\n",
       "    </tr>\n",
       "    <tr>\n",
       "      <th>18</th>\n",
       "      <td>0.213892</td>\n",
       "      <td>1.464726</td>\n",
       "      <td>0.440809</td>\n",
       "      <td>0.0</td>\n",
       "      <td>0.000000</td>\n",
       "      <td>0.174899</td>\n",
       "    </tr>\n",
       "    <tr>\n",
       "      <th>19</th>\n",
       "      <td>1.274699</td>\n",
       "      <td>0.395960</td>\n",
       "      <td>0.707609</td>\n",
       "      <td>0.0</td>\n",
       "      <td>0.000000</td>\n",
       "      <td>0.000000</td>\n",
       "    </tr>\n",
       "    <tr>\n",
       "      <th>20</th>\n",
       "      <td>0.000000</td>\n",
       "      <td>0.000000</td>\n",
       "      <td>1.515482</td>\n",
       "      <td>0.0</td>\n",
       "      <td>0.000000</td>\n",
       "      <td>0.000000</td>\n",
       "    </tr>\n",
       "    <tr>\n",
       "      <th>21</th>\n",
       "      <td>0.690334</td>\n",
       "      <td>0.000000</td>\n",
       "      <td>1.889238</td>\n",
       "      <td>0.0</td>\n",
       "      <td>0.000000</td>\n",
       "      <td>0.000000</td>\n",
       "    </tr>\n",
       "    <tr>\n",
       "      <th>22</th>\n",
       "      <td>0.000000</td>\n",
       "      <td>0.000000</td>\n",
       "      <td>0.099517</td>\n",
       "      <td>0.0</td>\n",
       "      <td>0.000000</td>\n",
       "      <td>0.000000</td>\n",
       "    </tr>\n",
       "    <tr>\n",
       "      <th>23</th>\n",
       "      <td>0.000000</td>\n",
       "      <td>0.000000</td>\n",
       "      <td>0.216183</td>\n",
       "      <td>0.0</td>\n",
       "      <td>0.000000</td>\n",
       "      <td>0.000000</td>\n",
       "    </tr>\n",
       "    <tr>\n",
       "      <th>24</th>\n",
       "      <td>0.936474</td>\n",
       "      <td>0.000000</td>\n",
       "      <td>3.127861</td>\n",
       "      <td>0.0</td>\n",
       "      <td>0.000000</td>\n",
       "      <td>0.000000</td>\n",
       "    </tr>\n",
       "    <tr>\n",
       "      <th>25</th>\n",
       "      <td>0.000000</td>\n",
       "      <td>0.000000</td>\n",
       "      <td>0.826556</td>\n",
       "      <td>0.0</td>\n",
       "      <td>0.000000</td>\n",
       "      <td>0.000000</td>\n",
       "    </tr>\n",
       "    <tr>\n",
       "      <th>26</th>\n",
       "      <td>0.000000</td>\n",
       "      <td>0.000000</td>\n",
       "      <td>0.000000</td>\n",
       "      <td>0.0</td>\n",
       "      <td>0.000000</td>\n",
       "      <td>0.000000</td>\n",
       "    </tr>\n",
       "    <tr>\n",
       "      <th>27</th>\n",
       "      <td>0.000000</td>\n",
       "      <td>0.000000</td>\n",
       "      <td>1.218474</td>\n",
       "      <td>0.0</td>\n",
       "      <td>0.000000</td>\n",
       "      <td>0.000000</td>\n",
       "    </tr>\n",
       "    <tr>\n",
       "      <th>28</th>\n",
       "      <td>0.000000</td>\n",
       "      <td>0.000000</td>\n",
       "      <td>0.000000</td>\n",
       "      <td>0.0</td>\n",
       "      <td>0.000000</td>\n",
       "      <td>0.000000</td>\n",
       "    </tr>\n",
       "    <tr>\n",
       "      <th>29</th>\n",
       "      <td>0.000000</td>\n",
       "      <td>0.000000</td>\n",
       "      <td>0.133912</td>\n",
       "      <td>0.0</td>\n",
       "      <td>0.000000</td>\n",
       "      <td>0.000000</td>\n",
       "    </tr>\n",
       "    <tr>\n",
       "      <th>30</th>\n",
       "      <td>0.000000</td>\n",
       "      <td>0.000000</td>\n",
       "      <td>0.995073</td>\n",
       "      <td>0.0</td>\n",
       "      <td>0.000000</td>\n",
       "      <td>0.000000</td>\n",
       "    </tr>\n",
       "    <tr>\n",
       "      <th>31</th>\n",
       "      <td>0.000000</td>\n",
       "      <td>0.000000</td>\n",
       "      <td>1.130818</td>\n",
       "      <td>0.0</td>\n",
       "      <td>0.000000</td>\n",
       "      <td>0.000000</td>\n",
       "    </tr>\n",
       "    <tr>\n",
       "      <th>32</th>\n",
       "      <td>0.000000</td>\n",
       "      <td>0.000000</td>\n",
       "      <td>0.000000</td>\n",
       "      <td>0.0</td>\n",
       "      <td>0.000000</td>\n",
       "      <td>0.000000</td>\n",
       "    </tr>\n",
       "    <tr>\n",
       "      <th>33</th>\n",
       "      <td>0.000000</td>\n",
       "      <td>0.000000</td>\n",
       "      <td>2.882789</td>\n",
       "      <td>0.0</td>\n",
       "      <td>0.000000</td>\n",
       "      <td>0.000000</td>\n",
       "    </tr>\n",
       "  </tbody>\n",
       "</table>\n",
       "</div>"
      ],
      "text/plain": [
       "       Camp1     Camp2     Camp3  Camp4     Camp5     Camp6\n",
       "0   0.000000  2.304738  0.362762    0.0  0.000000  0.000000\n",
       "1   0.255021  0.161991  2.262144    0.0  0.000000  0.000000\n",
       "2   0.000000  2.360890  0.885666    0.0  0.000000  0.000000\n",
       "3   0.000000  1.442068  3.016258    0.0  1.128234  0.000000\n",
       "4   2.537755  1.617572  0.129946    0.0  0.000000  0.000000\n",
       "5   0.255903  0.000000  0.550102    0.0  0.238127  0.000000\n",
       "6   1.845896  1.629227  0.988457    0.0  0.000000  0.000000\n",
       "7   0.000000  1.020422  1.741862    0.0  0.000000  0.000000\n",
       "8   0.000000  0.000000  1.430644    0.0  0.000000  0.000000\n",
       "9   0.000000  0.325646  0.695966    0.0  0.862013  0.000000\n",
       "10  1.189979  0.000000  1.434613    0.0  0.000000  0.222658\n",
       "11  0.000000  0.933938  0.914413    0.0  0.000000  1.559824\n",
       "12  0.000000  1.789916  1.119352    0.0  0.000000  0.000000\n",
       "13  1.975880  1.672784  1.467668    0.0  0.000000  0.000000\n",
       "14  3.331037  0.000000  0.308306    0.0  0.000000  0.245632\n",
       "15  2.087650  0.000000  0.280568    0.0  0.000000  0.000000\n",
       "16  0.000000  0.451877  0.049206    0.0  0.000000  0.000000\n",
       "17  1.706451  0.158104  1.076553    0.0  0.000000  0.000000\n",
       "18  0.213892  1.464726  0.440809    0.0  0.000000  0.174899\n",
       "19  1.274699  0.395960  0.707609    0.0  0.000000  0.000000\n",
       "20  0.000000  0.000000  1.515482    0.0  0.000000  0.000000\n",
       "21  0.690334  0.000000  1.889238    0.0  0.000000  0.000000\n",
       "22  0.000000  0.000000  0.099517    0.0  0.000000  0.000000\n",
       "23  0.000000  0.000000  0.216183    0.0  0.000000  0.000000\n",
       "24  0.936474  0.000000  3.127861    0.0  0.000000  0.000000\n",
       "25  0.000000  0.000000  0.826556    0.0  0.000000  0.000000\n",
       "26  0.000000  0.000000  0.000000    0.0  0.000000  0.000000\n",
       "27  0.000000  0.000000  1.218474    0.0  0.000000  0.000000\n",
       "28  0.000000  0.000000  0.000000    0.0  0.000000  0.000000\n",
       "29  0.000000  0.000000  0.133912    0.0  0.000000  0.000000\n",
       "30  0.000000  0.000000  0.995073    0.0  0.000000  0.000000\n",
       "31  0.000000  0.000000  1.130818    0.0  0.000000  0.000000\n",
       "32  0.000000  0.000000  0.000000    0.0  0.000000  0.000000\n",
       "33  0.000000  0.000000  2.882789    0.0  0.000000  0.000000"
      ]
     },
     "execution_count": 16,
     "metadata": {},
     "output_type": "execute_result"
    }
   ],
   "source": [
    "#df=df.rename(columns={'roas_x':'Camp1', \"roas_y\": \"Camp2\", \"roas\": \"Camp3\"})\n",
    "df=df.drop(['date'], axis=1)\n",
    "df=df.fillna(0)\n",
    "df"
   ]
  },
  {
   "cell_type": "code",
   "execution_count": 111,
   "metadata": {},
   "outputs": [
    {
     "name": "stdout",
     "output_type": "stream",
     "text": [
      "Campaign 1:   0.5382638474891784  +-  0.9018108770178782\n",
      "Campaign 2:   0.521466413965169  +-  0.770079954792022\n",
      "Campaign 3:   0.997023700961595  +-  0.8703471948642328\n"
     ]
    }
   ],
   "source": [
    "print('Campaign 1:  ',df.Camp1.mean(),' +- ',df.Camp1.std())\n",
    "print('Campaign 2:  ',df.Camp2.mean(),' +- ',df.Camp2.std())\n",
    "print('Campaign 3:  ',df.Camp3.mean(),' +- ',df.Camp3.std())"
   ]
  },
  {
   "cell_type": "code",
   "execution_count": 17,
   "metadata": {},
   "outputs": [],
   "source": [
    "# import matplotlib.pyplot as plt\n",
    "# from scipy.stats import norm\n",
    "# plt.plot(df.Camp1, norm.pdf(df.Camp1,df.Camp1.mean(),df.Camp1.std()))\n",
    "# plt.show()"
   ]
  },
  {
   "cell_type": "code",
   "execution_count": 18,
   "metadata": {},
   "outputs": [
    {
     "data": {
      "text/plain": [
       "<matplotlib.axes._subplots.AxesSubplot at 0x7ff545e97b10>"
      ]
     },
     "execution_count": 18,
     "metadata": {},
     "output_type": "execute_result"
    },
    {
     "data": {
      "image/png": "[encoded data removed]",
      "text/plain": [
       "<Figure size 432x288 with 1 Axes>"
      ]
     },
     "metadata": {
      "needs_background": "light"
     },
     "output_type": "display_data"
    }
   ],
   "source": [
    "import numpy as np\n",
    "import seaborn as sns\n",
    "value = np.random.normal(loc=df.Camp1.mean(),scale=df.Camp1.std(),size=30)\n",
    "sns.distplot(value)"
   ]
  },
  {
   "cell_type": "code",
   "execution_count": 19,
   "metadata": {},
   "outputs": [
    {
     "data": {
      "text/plain": [
       "<matplotlib.axes._subplots.AxesSubplot at 0x7ff543dbf650>"
      ]
     },
     "execution_count": 19,
     "metadata": {},
     "output_type": "execute_result"
    },
    {
     "data": {
      "image/png": "[encoded data removed]",
      "text/plain": [
       "<Figure size 432x288 with 1 Axes>"
      ]
     },
     "metadata": {
      "needs_background": "light"
     },
     "output_type": "display_data"
    }
   ],
   "source": [
    "value = np.random.normal(loc=df.Camp2.mean(),scale=df.Camp2.std(),size=30)\n",
    "sns.distplot(value)"
   ]
  },
  {
   "cell_type": "code",
   "execution_count": 20,
   "metadata": {},
   "outputs": [
    {
     "data": {
      "text/plain": [
       "<matplotlib.axes._subplots.AxesSubplot at 0x7ff543d0eb50>"
      ]
     },
     "execution_count": 20,
     "metadata": {},
     "output_type": "execute_result"
    },
    {
     "data": {
      "image/png": "[encoded data removed]",
      "text/plain": [
       "<Figure size 432x288 with 1 Axes>"
      ]
     },
     "metadata": {
      "needs_background": "light"
     },
     "output_type": "display_data"
    }
   ],
   "source": [
    "value = np.random.normal(loc=df.Camp3.mean(),scale=df.Camp3.std(),size=30)\n",
    "sns.distplot(value)"
   ]
  },
  {
   "cell_type": "code",
   "execution_count": 23,
   "metadata": {
    "pycharm": {
     "name": "#%%\n"
    }
   },
   "outputs": [
    {
     "name": "stdout",
     "output_type": "stream",
     "text": [
      "\n",
      "\n",
      "Rewards By Machine =  [0.0, 0.16199063231850117, 14.398216728628945, 0.0, 0.0, 0.0]\n",
      "\n",
      "Total Rewards by UCB =  14.560207360947448\n",
      "\n",
      "Machine Selected At Each Round By UCB: \n",
      " [0, 1, 2, 3, 4, 5, 2, 2, 2, 2, 1, 2, 0, 3, 4, 5, 2, 2, 2, 2, 1, 2, 2, 0, 3, 4, 5, 2, 2, 2, 2, 2, 2, 1]\n"
     ]
    },
    {
     "data": {
      "image/png": "[encoded data removed]",
      "text/plain": [
       "<Figure size 432x288 with 1 Axes>"
      ]
     },
     "metadata": {
      "needs_background": "light"
     },
     "output_type": "display_data"
    },
    {
     "data": {
      "image/png": "[encoded data removed]",
      "text/plain": [
       "<Figure size 432x288 with 1 Axes>"
      ]
     },
     "metadata": {
      "needs_background": "light"
     },
     "output_type": "display_data"
    }
   ],
   "source": [
    "\n",
    "# Upper Confidence Bound\n",
    "import math\n",
    "import matplotlib.pyplot as plt\n",
    "import pandas as pd\n",
    "\n",
    "data = df#pd.read_csv(\"UCBbandits.csv\")\n",
    "\n",
    "observations = 34\n",
    "machines = 6\n",
    "numbers_of_selections_of_each_machine = [0] * machines\n",
    "sums_of_rewards_for_each_machine = [0] * machines\n",
    "machines_selected = []\n",
    "total_rewards = 0\n",
    "\n",
    "for n in range(observations):\n",
    "    bandit = 0\n",
    "    max_upper_bound = 0\n",
    "    \n",
    "    for i in range(machines):\n",
    "        if (numbers_of_selections_of_each_machine[i] > 0):        \n",
    "            average_reward = sums_of_rewards_for_each_machine[i] / numbers_of_selections_of_each_machine[i]           \n",
    "            di = math.sqrt(3/2 * math.log(n + 1) / numbers_of_selections_of_each_machine[i])           \n",
    "            upper_bound = average_reward + di\n",
    "            \n",
    "        else:\n",
    "            upper_bound = 1e400\n",
    "            \n",
    "        if upper_bound > max_upper_bound:\n",
    "            max_upper_bound = upper_bound\n",
    "            bandit = i\n",
    "   \n",
    "    machines_selected.append(bandit) \n",
    "    numbers_of_selections_of_each_machine[bandit] = numbers_of_selections_of_each_machine[bandit] + 1\n",
    "    reward = data.values[n, bandit]\n",
    "    sums_of_rewards_for_each_machine[bandit] = sums_of_rewards_for_each_machine[bandit] + reward\n",
    "    total_rewards = total_rewards + reward\n",
    "\n",
    "print(\"\\n\\nRewards By Machine = \", sums_of_rewards_for_each_machine)\n",
    "print(\"\\nTotal Rewards by UCB = \", total_rewards)\n",
    "print(\"\\nMachine Selected At Each Round By UCB: \\n\", machines_selected)\n",
    "\n",
    "\n",
    "#Visualizing the rewards of each machine\n",
    "plt.bar(['Camp1','Camp2','Camp3','Camp4','Camp5','Camp6'],sums_of_rewards_for_each_machine)\n",
    "plt.title('MABP With UCB')\n",
    "plt.xlabel('Bandits')\n",
    "plt.ylabel('Rewards By Each Machine')\n",
    "plt.show()\n",
    "\n",
    "#Visualizing the selections of each machine\n",
    "plt.bar(['Camp1','Camp2','Camp3','Camp4','Camp5','Camp6'],numbers_of_selections_of_each_machine)\n",
    "plt.title('Machines selected the most')\n",
    "plt.xlabel('Bandits')\n",
    "plt.ylabel('Number Of Times Each Bandit Was Selected To Play')\n",
    "plt.show()"
   ]
  },
  {
   "cell_type": "markdown",
   "metadata": {},
   "source": [
    "### get the information of the budget for each campaign"
   ]
  },
  {
   "cell_type": "code",
   "execution_count": 24,
   "metadata": {
    "pycharm": {
     "name": "#%%\n"
    }
   },
   "outputs": [
    {
     "data": {
      "text/plain": [
       "0     6257103083624\n",
       "1     6257101423824\n",
       "2     6256978831424\n",
       "3     6256193255224\n",
       "4     6255456278224\n",
       "5     6254544161624\n",
       "6     6254350475824\n",
       "7     6247222216624\n",
       "8     6247217665424\n",
       "9     6247217077624\n",
       "10    6247216180624\n",
       "11    6246342322224\n",
       "12    6246191687424\n",
       "13    6246177575224\n",
       "14    6244378654624\n",
       "15    6244374903624\n",
       "16    6243989322624\n",
       "17    6243502038024\n",
       "18    6243296405824\n",
       "19    6239736526424\n",
       "20    6239406784624\n",
       "21    6239399712824\n",
       "22    6238915200024\n",
       "23    6238763952824\n",
       "24    6235717851624\n",
       "Name: id, dtype: int64"
      ]
     },
     "execution_count": 24,
     "metadata": {},
     "output_type": "execute_result"
    }
   ],
   "source": [
    "budget=pd.read_json('campaigns_daily_budget.json')\n",
    "budget.id"
   ]
  },
  {
   "cell_type": "code",
   "execution_count": null,
   "metadata": {
    "pycharm": {
     "name": "#%%\n"
    }
   },
   "outputs": [],
   "source": [
    "budget.status"
   ]
  },
  {
   "cell_type": "code",
   "execution_count": 25,
   "metadata": {
    "pycharm": {
     "name": "#%%\n"
    }
   },
   "outputs": [
    {
     "data": {
      "text/html": [
       "<div>\n",
       "<style scoped>\n",
       "    .dataframe tbody tr th:only-of-type {\n",
       "        vertical-align: middle;\n",
       "    }\n",
       "\n",
       "    .dataframe tbody tr th {\n",
       "        vertical-align: top;\n",
       "    }\n",
       "\n",
       "    .dataframe thead th {\n",
       "        text-align: right;\n",
       "    }\n",
       "</style>\n",
       "<table border=\"1\" class=\"dataframe\">\n",
       "  <thead>\n",
       "    <tr style=\"text-align: right;\">\n",
       "      <th></th>\n",
       "      <th>campaign_id</th>\n",
       "      <th>daily_budget</th>\n",
       "    </tr>\n",
       "  </thead>\n",
       "  <tbody>\n",
       "    <tr>\n",
       "      <th>0</th>\n",
       "      <td>6257103083624</td>\n",
       "      <td>2500</td>\n",
       "    </tr>\n",
       "    <tr>\n",
       "      <th>1</th>\n",
       "      <td>6257101423824</td>\n",
       "      <td>3000</td>\n",
       "    </tr>\n",
       "    <tr>\n",
       "      <th>2</th>\n",
       "      <td>6256978831424</td>\n",
       "      <td>4500</td>\n",
       "    </tr>\n",
       "    <tr>\n",
       "      <th>4</th>\n",
       "      <td>6255456278224</td>\n",
       "      <td>7000</td>\n",
       "    </tr>\n",
       "    <tr>\n",
       "      <th>5</th>\n",
       "      <td>6254544161624</td>\n",
       "      <td>0</td>\n",
       "    </tr>\n",
       "    <tr>\n",
       "      <th>6</th>\n",
       "      <td>6254350475824</td>\n",
       "      <td>17500</td>\n",
       "    </tr>\n",
       "    <tr>\n",
       "      <th>21</th>\n",
       "      <td>6239399712824</td>\n",
       "      <td>0</td>\n",
       "    </tr>\n",
       "    <tr>\n",
       "      <th>23</th>\n",
       "      <td>6238763952824</td>\n",
       "      <td>0</td>\n",
       "    </tr>\n",
       "  </tbody>\n",
       "</table>\n",
       "</div>"
      ],
      "text/plain": [
       "      campaign_id  daily_budget\n",
       "0   6257103083624          2500\n",
       "1   6257101423824          3000\n",
       "2   6256978831424          4500\n",
       "4   6255456278224          7000\n",
       "5   6254544161624             0\n",
       "6   6254350475824         17500\n",
       "21  6239399712824             0\n",
       "23  6238763952824             0"
      ]
     },
     "execution_count": 25,
     "metadata": {},
     "output_type": "execute_result"
    }
   ],
   "source": [
    "#db=budget.loc[budget['status'] =='ACTIVE'] \n",
    "db=pd.DataFrame()\n",
    "db['campaign_id']=budget['id'].loc[budget['status'] =='ACTIVE']\n",
    "db['daily_budget']=budget['daily_budget'].loc[budget['status'] =='ACTIVE']\n",
    "db"
   ]
  },
  {
   "cell_type": "code",
   "execution_count": 26,
   "metadata": {
    "pycharm": {
     "name": "#%%\n"
    }
   },
   "outputs": [
    {
     "data": {
      "text/plain": [
       "array([6257103083624, 6257101423824, 6256978831424, 6255456278224,\n",
       "       6254544161624, 6254350475824, 6239399712824, 6238763952824])"
      ]
     },
     "execution_count": 26,
     "metadata": {},
     "output_type": "execute_result"
    }
   ],
   "source": [
    "db.campaign_id.unique()"
   ]
  },
  {
   "cell_type": "code",
   "execution_count": 27,
   "metadata": {
    "pycharm": {
     "name": "#%%\n"
    }
   },
   "outputs": [
    {
     "ename": "AttributeError",
     "evalue": "'int' object has no attribute 'campaign_id'",
     "output_type": "error",
     "traceback": [
      "\u001b[0;31m---------------------------------------------------------------------------\u001b[0m",
      "\u001b[0;31mAttributeError\u001b[0m                            Traceback (most recent call last)",
      "\u001b[0;32m<ipython-input-27-0265bd60fe81>\u001b[0m in \u001b[0;36m<module>\u001b[0;34m\u001b[0m\n\u001b[0;32m----> 1\u001b[0;31m \u001b[0md\u001b[0m\u001b[0;34m.\u001b[0m\u001b[0mcampaign_id\u001b[0m\u001b[0;34m.\u001b[0m\u001b[0munique\u001b[0m\u001b[0;34m(\u001b[0m\u001b[0;34m)\u001b[0m\u001b[0;34m\u001b[0m\u001b[0;34m\u001b[0m\u001b[0m\n\u001b[0m",
      "\u001b[0;31mAttributeError\u001b[0m: 'int' object has no attribute 'campaign_id'"
     ]
    }
   ],
   "source": [
    "d.campaign_id.unique()"
   ]
  },
  {
   "cell_type": "code",
   "execution_count": 28,
   "metadata": {
    "pycharm": {
     "name": "#%%\n"
    }
   },
   "outputs": [
    {
     "ename": "AttributeError",
     "evalue": "'int' object has no attribute 'campaign_id'",
     "output_type": "error",
     "traceback": [
      "\u001b[0;31m---------------------------------------------------------------------------\u001b[0m",
      "\u001b[0;31mAttributeError\u001b[0m                            Traceback (most recent call last)",
      "\u001b[0;32m<ipython-input-28-2ff68dbda538>\u001b[0m in \u001b[0;36m<module>\u001b[0;34m\u001b[0m\n\u001b[0;32m----> 1\u001b[0;31m \u001b[0mlist\u001b[0m\u001b[0;34m(\u001b[0m\u001b[0mset\u001b[0m\u001b[0;34m(\u001b[0m\u001b[0md\u001b[0m\u001b[0;34m.\u001b[0m\u001b[0mcampaign_id\u001b[0m\u001b[0;34m.\u001b[0m\u001b[0munique\u001b[0m\u001b[0;34m(\u001b[0m\u001b[0;34m)\u001b[0m\u001b[0;34m)\u001b[0m\u001b[0;34m.\u001b[0m\u001b[0mintersection\u001b[0m\u001b[0;34m(\u001b[0m\u001b[0mdb\u001b[0m\u001b[0;34m.\u001b[0m\u001b[0mcampaign_id\u001b[0m\u001b[0;34m.\u001b[0m\u001b[0munique\u001b[0m\u001b[0;34m(\u001b[0m\u001b[0;34m)\u001b[0m\u001b[0;34m)\u001b[0m\u001b[0;34m)\u001b[0m\u001b[0;34m\u001b[0m\u001b[0;34m\u001b[0m\u001b[0m\n\u001b[0m",
      "\u001b[0;31mAttributeError\u001b[0m: 'int' object has no attribute 'campaign_id'"
     ]
    }
   ],
   "source": [
    "list(set(d.campaign_id.unique()).intersection(db.campaign_id.unique()))"
   ]
  },
  {
   "cell_type": "markdown",
   "metadata": {},
   "source": [
    "## Adset budget"
   ]
  },
  {
   "cell_type": "code",
   "execution_count": 29,
   "metadata": {
    "pycharm": {
     "name": "#%%\n"
    }
   },
   "outputs": [
    {
     "data": {
      "text/plain": [
       "0      326\n",
       "1      659\n",
       "2      472\n",
       "3      360\n",
       "4      264\n",
       "5     2000\n",
       "6     2000\n",
       "7     3330\n",
       "8     4000\n",
       "9     3818\n",
       "10    3592\n",
       "11    2000\n",
       "12    2000\n",
       "13    1500\n",
       "14    1500\n",
       "15    3000\n",
       "16    2000\n",
       "17    2000\n",
       "18    3000\n",
       "19    2000\n",
       "20    1500\n",
       "21    3000\n",
       "22    2000\n",
       "23    2000\n",
       "24    7500\n",
       "Name: budget_remaining, dtype: int64"
      ]
     },
     "execution_count": 29,
     "metadata": {},
     "output_type": "execute_result"
    }
   ],
   "source": [
    "adset_budget=pd.read_json('addsets_fisk.json')\n",
    "adset_budget.budget_remaining"
   ]
  },
  {
   "cell_type": "code",
   "execution_count": 30,
   "metadata": {
    "pycharm": {
     "name": "#%%\n"
    }
   },
   "outputs": [
    {
     "data": {
      "text/html": [
       "<div>\n",
       "<style scoped>\n",
       "    .dataframe tbody tr th:only-of-type {\n",
       "        vertical-align: middle;\n",
       "    }\n",
       "\n",
       "    .dataframe tbody tr th {\n",
       "        vertical-align: top;\n",
       "    }\n",
       "\n",
       "    .dataframe thead th {\n",
       "        text-align: right;\n",
       "    }\n",
       "</style>\n",
       "<table border=\"1\" class=\"dataframe\">\n",
       "  <thead>\n",
       "    <tr style=\"text-align: right;\">\n",
       "      <th></th>\n",
       "      <th>campaign_id</th>\n",
       "      <th>daily_budget</th>\n",
       "    </tr>\n",
       "  </thead>\n",
       "  <tbody>\n",
       "    <tr>\n",
       "      <th>0</th>\n",
       "      <td>6257103083624</td>\n",
       "      <td>326</td>\n",
       "    </tr>\n",
       "    <tr>\n",
       "      <th>1</th>\n",
       "      <td>6257101423824</td>\n",
       "      <td>659</td>\n",
       "    </tr>\n",
       "    <tr>\n",
       "      <th>2</th>\n",
       "      <td>6256978831424</td>\n",
       "      <td>472</td>\n",
       "    </tr>\n",
       "    <tr>\n",
       "      <th>4</th>\n",
       "      <td>6256978831424</td>\n",
       "      <td>264</td>\n",
       "    </tr>\n",
       "    <tr>\n",
       "      <th>5</th>\n",
       "      <td>6256193255224</td>\n",
       "      <td>2000</td>\n",
       "    </tr>\n",
       "    <tr>\n",
       "      <th>6</th>\n",
       "      <td>6256193255224</td>\n",
       "      <td>2000</td>\n",
       "    </tr>\n",
       "    <tr>\n",
       "      <th>21</th>\n",
       "      <td>6247217077624</td>\n",
       "      <td>3000</td>\n",
       "    </tr>\n",
       "    <tr>\n",
       "      <th>23</th>\n",
       "      <td>6247216180624</td>\n",
       "      <td>2000</td>\n",
       "    </tr>\n",
       "  </tbody>\n",
       "</table>\n",
       "</div>"
      ],
      "text/plain": [
       "      campaign_id  daily_budget\n",
       "0   6257103083624           326\n",
       "1   6257101423824           659\n",
       "2   6256978831424           472\n",
       "4   6256978831424           264\n",
       "5   6256193255224          2000\n",
       "6   6256193255224          2000\n",
       "21  6247217077624          3000\n",
       "23  6247216180624          2000"
      ]
     },
     "execution_count": 30,
     "metadata": {},
     "output_type": "execute_result"
    }
   ],
   "source": [
    "db2=pd.DataFrame()\n",
    "db2['campaign_id']=adset_budget['campaign_id'].loc[budget['status'] =='ACTIVE']\n",
    "db2['daily_budget']=adset_budget['budget_remaining'].loc[budget['status'] =='ACTIVE']\n",
    "db2"
   ]
  },
  {
   "cell_type": "code",
   "execution_count": 32,
   "metadata": {
    "pycharm": {
     "name": "#%%\n"
    }
   },
   "outputs": [
    {
     "ename": "AttributeError",
     "evalue": "'int' object has no attribute 'campaign_id'",
     "output_type": "error",
     "traceback": [
      "\u001b[0;31m---------------------------------------------------------------------------\u001b[0m",
      "\u001b[0;31mAttributeError\u001b[0m                            Traceback (most recent call last)",
      "\u001b[0;32m<ipython-input-32-8ac209e23a6f>\u001b[0m in \u001b[0;36m<module>\u001b[0;34m\u001b[0m\n\u001b[0;32m----> 1\u001b[0;31m \u001b[0mlist\u001b[0m\u001b[0;34m(\u001b[0m\u001b[0mset\u001b[0m\u001b[0;34m(\u001b[0m\u001b[0mdb2\u001b[0m\u001b[0;34m.\u001b[0m\u001b[0mcampaign_id\u001b[0m\u001b[0;34m.\u001b[0m\u001b[0munique\u001b[0m\u001b[0;34m(\u001b[0m\u001b[0;34m)\u001b[0m\u001b[0;34m)\u001b[0m\u001b[0;34m.\u001b[0m\u001b[0mintersection\u001b[0m\u001b[0;34m(\u001b[0m\u001b[0md\u001b[0m\u001b[0;34m.\u001b[0m\u001b[0mcampaign_id\u001b[0m\u001b[0;34m.\u001b[0m\u001b[0munique\u001b[0m\u001b[0;34m(\u001b[0m\u001b[0;34m)\u001b[0m\u001b[0;34m)\u001b[0m\u001b[0;34m)\u001b[0m\u001b[0;34m\u001b[0m\u001b[0;34m\u001b[0m\u001b[0m\n\u001b[0m",
      "\u001b[0;31mAttributeError\u001b[0m: 'int' object has no attribute 'campaign_id'"
     ]
    }
   ],
   "source": [
    "list(set(db2.campaign_id.unique()).intersection(d.campaign_id.unique()))"
   ]
  },
  {
   "cell_type": "code",
   "execution_count": null,
   "metadata": {
    "pycharm": {
     "name": "#%%\n"
    }
   },
   "outputs": [],
   "source": []
  },
  {
   "cell_type": "code",
   "execution_count": 42,
   "metadata": {},
   "outputs": [
    {
     "name": "stdout",
     "output_type": "stream",
     "text": [
      "1.019666990168809\n",
      "1.2837127533066595\n",
      "1.2837127533066595\n",
      "1.442026886600883\n",
      "1.442026886600883\n",
      "1.442026886600883\n",
      "1.5537557300461198\n",
      "1.5537557300461198\n",
      "1.5537557300461198\n",
      "1.5537557300461198\n",
      "1.6394020872995383\n",
      "1.6394020872995383\n",
      "1.6394020872995383\n",
      "1.6394020872995383\n",
      "1.6394020872995383\n",
      "1.7084686779636815\n",
      "1.7084686779636815\n",
      "1.7084686779636815\n",
      "1.7084686779636815\n",
      "1.7084686779636815\n",
      "1.7084686779636815\n",
      "1.7661150337732119\n",
      "1.7661150337732119\n",
      "1.2488319167365465\n",
      "1.7661150337732119\n",
      "1.7661150337732119\n",
      "1.7661150337732119\n",
      "1.815443985917585\n",
      "1.815443985917585\n",
      "1.048147073968205\n",
      "1.815443985917585\n",
      "1.815443985917585\n",
      "1.815443985917585\n",
      "1.8584610944249194\n",
      "1.8584610944249194\n",
      "0.9292305472124597\n",
      "1.8584610944249194\n",
      "1.8584610944249194\n",
      "1.8584610944249194\n",
      "1.8965344471423544\n",
      "1.8965344471423544\n",
      "0.8481559890960573\n",
      "1.8965344471423544\n",
      "1.8965344471423544\n",
      "1.8965344471423544\n",
      "1.9306371939548872\n",
      "1.3651666518564685\n",
      "0.8634072011145147\n",
      "1.9306371939548872\n",
      "1.9306371939548872\n",
      "1.9306371939548872\n",
      "1.9614851608391803\n",
      "1.3869794584261703\n",
      "0.8007729636828308\n",
      "1.9614851608391803\n",
      "1.9614851608391803\n",
      "1.9614851608391803\n",
      "1.4068734830152438\n",
      "1.4068734830152438\n",
      "0.8122587841345975\n",
      "1.989619560223232\n",
      "1.989619560223232\n",
      "1.989619560223232\n",
      "1.4251447824086707\n",
      "1.4251447824086707\n",
      "0.8228077237578367\n",
      "1.4251447824086707\n",
      "2.0154590796275955\n",
      "2.0154590796275955\n",
      "1.442026886600883\n",
      "1.442026886600883\n",
      "0.8325546111576977\n",
      "1.442026886600883\n",
      "1.442026886600883\n",
      "2.039333980337618\n",
      "1.4577071063976337\n",
      "1.4577071063976337\n",
      "0.8416075902783043\n",
      "1.4577071063976337\n",
      "1.4577071063976337\n",
      "1.4577071063976337\n",
      "1.4723378750891805\n",
      "1.4723378750891805\n",
      "0.7869976980220686\n",
      "1.4723378750891805\n",
      "1.4723378750891805\n",
      "1.4723378750891805\n",
      "1.4860448291942037\n",
      "1.4860448291942037\n",
      "0.7430224145971018\n",
      "1.4860448291942037\n",
      "1.4860448291942037\n",
      "1.4860448291942037\n",
      "1.498932688670673\n",
      "1.498932688670673\n",
      "0.7066036458008114\n",
      "1.498932688670673\n",
      "1.498932688670673\n",
      "1.498932688670673\n",
      "1.5110896162347776\n",
      "1.5110896162347776\n",
      "0.6757798203990065\n",
      "1.5110896162347776\n",
      "1.5110896162347776\n",
      "1.5110896162347776\n",
      "1.5225905030633604\n",
      "1.24318993990426\n",
      "0.6809231733490552\n",
      "1.5225905030633604\n",
      "1.5225905030633604\n",
      "1.5225905030633604\n",
      "1.5334994822127792\n",
      "1.2520970840811725\n",
      "0.6538863762774445\n",
      "1.5334994822127792\n",
      "1.5334994822127792\n",
      "1.5334994822127792\n",
      "1.5438718770548803\n",
      "1.2605661090057803\n",
      "0.6302830545028901\n",
      "1.5438718770548803\n",
      "1.5438718770548803\n",
      "1.5438718770548803\n",
      "1.2686362411795196\n",
      "1.2686362411795196\n",
      "0.6343181205897598\n",
      "1.5537557300461198\n",
      "1.5537557300461198\n",
      "1.5537557300461198\n",
      "1.276341752435742\n",
      "1.276341752435742\n",
      "0.638170876217871\n",
      "1.276341752435742\n",
      "1.5631930154386284\n",
      "1.5631930154386284\n",
      "1.2837127533066595\n",
      "1.2837127533066595\n",
      "0.6418563766533297\n",
      "1.2837127533066595\n",
      "1.2837127533066595\n",
      "1.5722206109523074\n",
      "1.2907758345613702\n",
      "1.2907758345613702\n",
      "0.6453879172806851\n",
      "1.2907758345613702\n",
      "1.2907758345613702\n",
      "1.2907758345613702\n",
      "1.2975545903711478\n",
      "1.2975545903711478\n",
      "0.6233250630523439\n",
      "1.2975545903711478\n",
      "1.2975545903711478\n",
      "1.2975545903711478\n",
      "1.3040700482838634\n",
      "1.3040700482838634\n",
      "0.6036671311062812\n",
      "1.3040700482838634\n",
      "1.3040700482838634\n",
      "1.3040700482838634\n",
      "1.310341025169621\n",
      "1.310341025169621\n",
      "0.5860023211972071\n",
      "1.310341025169621\n",
      "1.310341025169621\n",
      "1.310341025169621\n",
      "1.3163844238670797\n",
      "1.3163844238670797\n",
      "0.5700111761075166\n",
      "1.3163844238670797\n",
      "1.3163844238670797\n",
      "1.3163844238670797\n",
      "1.3222154819594423\n",
      "1.3222154819594423\n",
      "0.555441601854391\n",
      "1.3222154819594423\n",
      "1.3222154819594423\n",
      "1.3222154819594423\n",
      "1.3278479816259392\n",
      "1.3278479816259392\n",
      "0.5420916684946807\n",
      "1.3278479816259392\n",
      "1.3278479816259392\n",
      "1.3278479816259392\n",
      "\n",
      "\n",
      "Rewards By Machine =  [0.0, 0.16199063231850117, 14.398216728628945, 0.0, 0.0, 0.0]\n",
      "\n",
      "Total Rewards by UCB =  14.560207360947448\n",
      "\n",
      "Machine Selected At Each Round By UCB: \n",
      " [0, 1, 2, 3, 4, 5, 2, 2, 2, 2, 1, 2, 0, 3, 4, 5, 2, 2, 2, 2, 1, 2, 2, 0, 3, 4, 5, 2, 2, 2, 2, 2, 2, 1]\n"
     ]
    },
    {
     "data": {
      "image/png": "[encoded data removed]",
      "text/plain": [
       "<Figure size 432x288 with 1 Axes>"
      ]
     },
     "metadata": {
      "needs_background": "light"
     },
     "output_type": "display_data"
    },
    {
     "data": {
      "image/png": "[encoded data removed]",
      "text/plain": [
       "<Figure size 432x288 with 1 Axes>"
      ]
     },
     "metadata": {
      "needs_background": "light"
     },
     "output_type": "display_data"
    }
   ],
   "source": [
    "\n",
    "# Upper Confidence Bound\n",
    "import math\n",
    "import matplotlib.pyplot as plt\n",
    "import pandas as pd\n",
    "\n",
    "data = df#pd.read_csv(\"UCBbandits.csv\")\n",
    "\n",
    "observations = 34\n",
    "machines = 6\n",
    "numbers_of_selections_of_each_machine = [0] * machines\n",
    "sums_of_rewards_for_each_machine = [0] * machines\n",
    "machines_selected = []\n",
    "total_rewards = 0\n",
    "\n",
    "for n in range(observations):\n",
    "    bandit = 0\n",
    "    max_upper_bound = 0\n",
    "    \n",
    "    for i in range(machines):\n",
    "        if (numbers_of_selections_of_each_machine[i] > 0):        \n",
    "            average_reward = sums_of_rewards_for_each_machine[i] / numbers_of_selections_of_each_machine[i]           \n",
    "            di = math.sqrt(3/2 * math.log(n + 1) / numbers_of_selections_of_each_machine[i])           \n",
    "            upper_bound = average_reward + di\n",
    "        ### update the budget here as well \n",
    "            \n",
    "        else:\n",
    "            upper_bound = 1e400\n",
    "            \n",
    "        if upper_bound > max_upper_bound:\n",
    "            max_upper_bound = upper_bound\n",
    "            bandit = i\n",
    "   \n",
    "    machines_selected.append(bandit) \n",
    "    numbers_of_selections_of_each_machine[bandit] = numbers_of_selections_of_each_machine[bandit] + 1\n",
    "    reward = data.values[n, bandit]\n",
    "    sums_of_rewards_for_each_machine[bandit] = sums_of_rewards_for_each_machine[bandit] + reward\n",
    "    total_rewards = total_rewards + reward\n",
    "\n",
    "print(\"\\n\\nRewards By Machine = \", sums_of_rewards_for_each_machine)\n",
    "print(\"\\nTotal Rewards by UCB = \", total_rewards)\n",
    "print(\"\\nMachine Selected At Each Round By UCB: \\n\", machines_selected)\n",
    "\n",
    "\n",
    "#Visualizing the rewards of each machine\n",
    "plt.bar(['Camp1','Camp2','Camp3','Camp4','Camp5','Camp6'],sums_of_rewards_for_each_machine)\n",
    "plt.title('MABP With UCB')\n",
    "plt.xlabel('Bandits')\n",
    "plt.ylabel('Rewards By Each Machine')\n",
    "plt.show()\n",
    "\n",
    "#Visualizing the selections of each machine\n",
    "plt.bar(['Camp1','Camp2','Camp3','Camp4','Camp5','Camp6'],numbers_of_selections_of_each_machine)\n",
    "plt.title('Machines selected the most')\n",
    "plt.xlabel('Bandits')\n",
    "plt.ylabel('Number Of Times Each Bandit Was Selected To Play')\n",
    "plt.show()"
   ]
  },
  {
   "cell_type": "markdown",
   "metadata": {},
   "source": [
    "### get the information of the budget for each campaign"
   ]
  },
  {
   "cell_type": "code",
   "execution_count": 80,
   "metadata": {},
   "outputs": [
    {
     "data": {
      "text/plain": [
       "0     6257103083624\n",
       "1     6257101423824\n",
       "2     6256978831424\n",
       "3     6256193255224\n",
       "4     6255456278224\n",
       "5     6254544161624\n",
       "6     6254350475824\n",
       "7     6247222216624\n",
       "8     6247217665424\n",
       "9     6247217077624\n",
       "10    6247216180624\n",
       "11    6246342322224\n",
       "12    6246191687424\n",
       "13    6246177575224\n",
       "14    6244378654624\n",
       "15    6244374903624\n",
       "16    6243989322624\n",
       "17    6243502038024\n",
       "18    6243296405824\n",
       "19    6239736526424\n",
       "20    6239406784624\n",
       "21    6239399712824\n",
       "22    6238915200024\n",
       "23    6238763952824\n",
       "24    6235717851624\n",
       "Name: id, dtype: int64"
      ]
     },
     "execution_count": 80,
     "metadata": {},
     "output_type": "execute_result"
    }
   ],
   "source": [
    "budget=pd.read_json('campaigns_daily_budget.json')\n",
    "budget.id"
   ]
  },
  {
   "cell_type": "code",
   "execution_count": 81,
   "metadata": {},
   "outputs": [
    {
     "data": {
      "text/plain": [
       "0     ACTIVE\n",
       "1     ACTIVE\n",
       "2     ACTIVE\n",
       "3     PAUSED\n",
       "4     ACTIVE\n",
       "5     ACTIVE\n",
       "6     ACTIVE\n",
       "7     PAUSED\n",
       "8     PAUSED\n",
       "9     PAUSED\n",
       "10    PAUSED\n",
       "11    PAUSED\n",
       "12    PAUSED\n",
       "13    PAUSED\n",
       "14    PAUSED\n",
       "15    PAUSED\n",
       "16    PAUSED\n",
       "17    PAUSED\n",
       "18    PAUSED\n",
       "19    PAUSED\n",
       "20    PAUSED\n",
       "21    ACTIVE\n",
       "22    PAUSED\n",
       "23    ACTIVE\n",
       "24    PAUSED\n",
       "Name: status, dtype: object"
      ]
     },
     "execution_count": 81,
     "metadata": {},
     "output_type": "execute_result"
    }
   ],
   "source": [
    "budget.status"
   ]
  },
  {
   "cell_type": "code",
   "execution_count": 84,
   "metadata": {},
   "outputs": [
    {
     "data": {
      "text/html": [
       "<div>\n",
       "<style scoped>\n",
       "    .dataframe tbody tr th:only-of-type {\n",
       "        vertical-align: middle;\n",
       "    }\n",
       "\n",
       "    .dataframe tbody tr th {\n",
       "        vertical-align: top;\n",
       "    }\n",
       "\n",
       "    .dataframe thead th {\n",
       "        text-align: right;\n",
       "    }\n",
       "</style>\n",
       "<table border=\"1\" class=\"dataframe\">\n",
       "  <thead>\n",
       "    <tr style=\"text-align: right;\">\n",
       "      <th></th>\n",
       "      <th>campaign_id</th>\n",
       "      <th>daily_budget</th>\n",
       "    </tr>\n",
       "  </thead>\n",
       "  <tbody>\n",
       "    <tr>\n",
       "      <th>0</th>\n",
       "      <td>6257103083624</td>\n",
       "      <td>2500</td>\n",
       "    </tr>\n",
       "    <tr>\n",
       "      <th>1</th>\n",
       "      <td>6257101423824</td>\n",
       "      <td>3000</td>\n",
       "    </tr>\n",
       "    <tr>\n",
       "      <th>2</th>\n",
       "      <td>6256978831424</td>\n",
       "      <td>4500</td>\n",
       "    </tr>\n",
       "    <tr>\n",
       "      <th>4</th>\n",
       "      <td>6255456278224</td>\n",
       "      <td>7000</td>\n",
       "    </tr>\n",
       "    <tr>\n",
       "      <th>5</th>\n",
       "      <td>6254544161624</td>\n",
       "      <td>0</td>\n",
       "    </tr>\n",
       "    <tr>\n",
       "      <th>6</th>\n",
       "      <td>6254350475824</td>\n",
       "      <td>17500</td>\n",
       "    </tr>\n",
       "    <tr>\n",
       "      <th>21</th>\n",
       "      <td>6239399712824</td>\n",
       "      <td>0</td>\n",
       "    </tr>\n",
       "    <tr>\n",
       "      <th>23</th>\n",
       "      <td>6238763952824</td>\n",
       "      <td>0</td>\n",
       "    </tr>\n",
       "  </tbody>\n",
       "</table>\n",
       "</div>"
      ],
      "text/plain": [
       "      campaign_id  daily_budget\n",
       "0   6257103083624          2500\n",
       "1   6257101423824          3000\n",
       "2   6256978831424          4500\n",
       "4   6255456278224          7000\n",
       "5   6254544161624             0\n",
       "6   6254350475824         17500\n",
       "21  6239399712824             0\n",
       "23  6238763952824             0"
      ]
     },
     "execution_count": 84,
     "metadata": {},
     "output_type": "execute_result"
    }
   ],
   "source": [
    "#db=budget.loc[budget['status'] =='ACTIVE'] \n",
    "db=pd.DataFrame()\n",
    "db['campaign_id']=budget['id'].loc[budget['status'] =='ACTIVE']\n",
    "db['daily_budget']=budget['daily_budget'].loc[budget['status'] =='ACTIVE']\n",
    "db"
   ]
  },
  {
   "cell_type": "code",
   "execution_count": 86,
   "metadata": {},
   "outputs": [
    {
     "data": {
      "text/plain": [
       "array([6257103083624, 6257101423824, 6256978831424, 6255456278224,\n",
       "       6254544161624, 6254350475824, 6239399712824, 6238763952824])"
      ]
     },
     "execution_count": 86,
     "metadata": {},
     "output_type": "execute_result"
    }
   ],
   "source": [
    "db.campaign_id.unique()"
   ]
  },
  {
   "cell_type": "code",
   "execution_count": 97,
   "metadata": {},
   "outputs": [
    {
     "data": {
      "text/plain": [
       "array([6243296405824, 6246177575224, 6246342322224, 6246191687424,\n",
       "       6247216180624, 6247217665424, 6254544161624, 6256193255224])"
      ]
     },
     "execution_count": 97,
     "metadata": {},
     "output_type": "execute_result"
    }
   ],
   "source": [
    "d.campaign_id.unique()"
   ]
  },
  {
   "cell_type": "code",
   "execution_count": 99,
   "metadata": {},
   "outputs": [
    {
     "data": {
      "text/plain": [
       "[6254544161624]"
      ]
     },
     "execution_count": 99,
     "metadata": {},
     "output_type": "execute_result"
    }
   ],
   "source": [
    "list(set(d.campaign_id.unique()).intersection(db.campaign_id.unique()))"
   ]
  },
  {
   "cell_type": "markdown",
   "metadata": {},
   "source": [
    "## Adset budget"
   ]
  },
  {
   "cell_type": "code",
   "execution_count": 48,
   "metadata": {},
   "outputs": [
    {
     "data": {
      "text/plain": [
       "2    6257054640224\n",
       "3    6257054344824\n",
       "4    6256978834224\n",
       "Name: id, dtype: int64"
      ]
     },
     "execution_count": 48,
     "metadata": {},
     "output_type": "execute_result"
    }
   ],
   "source": [
    "adset_budget=pd.read_json('addsets_fisk.json')\n",
    "adset_budget\n",
    "test=adset_budget.loc[adset_budget['campaign_id'] ==6256978831424]\n",
    "test.id\n"
   ]
  },
  {
   "cell_type": "code",
   "execution_count": 50,
   "metadata": {},
   "outputs": [
    {
     "data": {
      "text/html": [
       "<div>\n",
       "<style scoped>\n",
       "    .dataframe tbody tr th:only-of-type {\n",
       "        vertical-align: middle;\n",
       "    }\n",
       "\n",
       "    .dataframe tbody tr th {\n",
       "        vertical-align: top;\n",
       "    }\n",
       "\n",
       "    .dataframe thead th {\n",
       "        text-align: right;\n",
       "    }\n",
       "</style>\n",
       "<table border=\"1\" class=\"dataframe\">\n",
       "  <thead>\n",
       "    <tr style=\"text-align: right;\">\n",
       "      <th></th>\n",
       "      <th>campaign_id</th>\n",
       "      <th>adset_budget</th>\n",
       "      <th>adset_id</th>\n",
       "      <th>remaining_budget</th>\n",
       "    </tr>\n",
       "  </thead>\n",
       "  <tbody>\n",
       "    <tr>\n",
       "      <th>0</th>\n",
       "      <td>6257103083624</td>\n",
       "      <td>2500</td>\n",
       "      <td>6257103083424</td>\n",
       "      <td>326</td>\n",
       "    </tr>\n",
       "    <tr>\n",
       "      <th>1</th>\n",
       "      <td>6257101423824</td>\n",
       "      <td>3000</td>\n",
       "      <td>6257101424824</td>\n",
       "      <td>659</td>\n",
       "    </tr>\n",
       "    <tr>\n",
       "      <th>2</th>\n",
       "      <td>6256978831424</td>\n",
       "      <td>1500</td>\n",
       "      <td>6257054640224</td>\n",
       "      <td>472</td>\n",
       "    </tr>\n",
       "    <tr>\n",
       "      <th>4</th>\n",
       "      <td>6256978831424</td>\n",
       "      <td>1500</td>\n",
       "      <td>6256978834224</td>\n",
       "      <td>264</td>\n",
       "    </tr>\n",
       "    <tr>\n",
       "      <th>5</th>\n",
       "      <td>6256193255224</td>\n",
       "      <td>2000</td>\n",
       "      <td>6256193255624</td>\n",
       "      <td>2000</td>\n",
       "    </tr>\n",
       "    <tr>\n",
       "      <th>6</th>\n",
       "      <td>6256193255224</td>\n",
       "      <td>2000</td>\n",
       "      <td>6256193254624</td>\n",
       "      <td>2000</td>\n",
       "    </tr>\n",
       "    <tr>\n",
       "      <th>21</th>\n",
       "      <td>6247217077624</td>\n",
       "      <td>3000</td>\n",
       "      <td>6247217076624</td>\n",
       "      <td>3000</td>\n",
       "    </tr>\n",
       "    <tr>\n",
       "      <th>23</th>\n",
       "      <td>6247216180624</td>\n",
       "      <td>2000</td>\n",
       "      <td>6247216180824</td>\n",
       "      <td>2000</td>\n",
       "    </tr>\n",
       "  </tbody>\n",
       "</table>\n",
       "</div>"
      ],
      "text/plain": [
       "      campaign_id  adset_budget       adset_id  remaining_budget\n",
       "0   6257103083624          2500  6257103083424               326\n",
       "1   6257101423824          3000  6257101424824               659\n",
       "2   6256978831424          1500  6257054640224               472\n",
       "4   6256978831424          1500  6256978834224               264\n",
       "5   6256193255224          2000  6256193255624              2000\n",
       "6   6256193255224          2000  6256193254624              2000\n",
       "21  6247217077624          3000  6247217076624              3000\n",
       "23  6247216180624          2000  6247216180824              2000"
      ]
     },
     "execution_count": 50,
     "metadata": {},
     "output_type": "execute_result"
    }
   ],
   "source": [
    "db2=pd.DataFrame()\n",
    "db2['campaign_id']=adset_budget['campaign_id'].loc[budget['status'] =='ACTIVE']\n",
    "db2['adset_budget']=adset_budget['daily_budget'].loc[budget['status'] =='ACTIVE']\n",
    "db2['adset_id']=adset_budget['id'].loc[budget['status'] =='ACTIVE']\n",
    "db2['remaining_budget']=adset_budget['budget_remaining'].loc[budget['status'] =='ACTIVE']\n",
    "db2"
   ]
  },
  {
   "cell_type": "code",
   "execution_count": 132,
   "metadata": {},
   "outputs": [
    {
     "data": {
      "text/plain": [
       "[6257103083624, 6256978831424, 6257101423824]"
      ]
     },
     "execution_count": 132,
     "metadata": {},
     "output_type": "execute_result"
    }
   ],
   "source": [
    "list(set(db2.campaign_id.unique()).intersection(db.campaign_id.unique()))"
   ]
  },
  {
   "cell_type": "code",
   "execution_count": 35,
   "metadata": {},
   "outputs": [
    {
     "data": {
      "text/plain": [
       "[6247216180624, 6256193255224]"
      ]
     },
     "execution_count": 35,
     "metadata": {},
     "output_type": "execute_result"
    }
   ],
   "source": [
    "list(set(db2.campaign_id.unique()).intersection(d.campaign_id.unique()))"
   ]
  },
  {
   "cell_type": "markdown",
   "metadata": {},
   "source": [
    "### Reallocate budget "
   ]
  },
  {
   "cell_type": "code",
   "execution_count": null,
   "metadata": {},
   "outputs": [],
   "source": [
    "r=pd.DataFrame()\n",
    "r['old_position']=\n",
    "r['current_budget']=\n",
    "r['total_budget']=\n",
    "r['new_position']=\n",
    "r['new_position_index']=\n",
    "for i in r:\n",
    "    if r.old_position[i]==r.new_position_index[i]:\n",
    "        r['new_budget'][i]=r['current_budget'][i]\n",
    "    elif r.old_position[i]<r.new_position_index[i]:\n",
    "        r['new_budget'][i]=r['current_budget'][i] +(r['new_position'][i]-r['new_position'][r.old_position[i]-1])*r['total_budget'][i]\n",
    "    else:\n",
    "        r['new_budget'][i]=r['current_budget'][i] -(r['new_position'][i]-r['new_position'][r.old_position[i]-1])*r['total_budget'][i]\n",
    "    \n",
    "        \n",
    "    "
   ]
  }
 ],
 "metadata": {
  "kernelspec": {
   "display_name": "Python 3",
   "language": "python",
   "name": "python3"
  },
  "language_info": {
   "codemirror_mode": {
    "name": "ipython",
    "version": 3
   },
   "file_extension": ".py",
   "mimetype": "text/x-python",
   "name": "python",
   "nbconvert_exporter": "python",
   "pygments_lexer": "ipython3",
   "version": "3.7.6"
  }
 },
 "nbformat": 4,
 "nbformat_minor": 4
}
